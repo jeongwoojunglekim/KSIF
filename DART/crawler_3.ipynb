{
 "cells": [
  {
   "cell_type": "code",
   "execution_count": 1,
   "metadata": {},
   "outputs": [],
   "source": [
    "import pandas as pd\n",
    "import requests\n",
    "import time\n",
    "import os\n",
    "from bs4 import BeautifulSoup\n",
    "from zipfile import ZipFile\n",
    "from io import BytesIO"
   ]
  },
  {
   "cell_type": "code",
   "execution_count": 2,
   "metadata": {},
   "outputs": [],
   "source": [
    "import FinanceDataReader as fdr #pip3 install -U finance-datareader\n",
    "\n",
    "df_krx = fdr.StockListing('KRX')"
   ]
  },
  {
   "cell_type": "code",
   "execution_count": 3,
   "metadata": {},
   "outputs": [],
   "source": [
    "krx = list(df_krx['Symbol'].unique())"
   ]
  },
  {
   "cell_type": "code",
   "execution_count": 4,
   "metadata": {},
   "outputs": [],
   "source": [
    "#api_key_1 = 'cb0fcabeca9860467c685d03f356d07255192809' #jeongwoo_@nate.com\n",
    "#api_key_2 = '4800bd6ebc56177df6597027270cb71a1ccab416' #형민이형\n",
    "#api_key_3 = '6c8e47ffc4c048c9542558809dee2924548fde6b' #jeongwoo_@hotmail.com\n",
    "#api_key = '48a863e003a05fdf8afb848a434d8bba5066c731' #ganji_kjw@naver.com\n",
    "#api_key_1 = 'fa56fc7ffd3c4c573f8e44fd4200a3a5b562b21c' #jungle_kim@naver.com\n",
    "#api_key_2 = '44f424c3212e3473bf77559c74467b7af26b6145' #ganji_kjw@hanmail.net\n",
    "#api_key_3 = '89abbb40792cb5d507673202ea1672c72b2ebcf8' #jeongwoojunglekim@gmail.com\n",
    "#api_key_1 = 'bfadcf1bb1beeeab8175eeaae70dfd6a9296f508' #jeongwoo.kim@kaist.ac.kr\n",
    "#api_key_1 = '762a1002ae263933f361ce7c150beb9a0c213843' #jeongwookjw@msgsafe.io\n",
    "#api_key_2 = '42a08db596ec2fb94d77a49dbc0c2a14b03334aa' #slim8@snu.ac.kr\n",
    "#api_key_1 = '82f02b0a5ca6a319ce289386df02f69ef716ef88' #slim8824@gmail.com\n",
    "#api_key_1 = 'd100d11a0729f9dd662730ff8940063d977e9e83' #jeongwookjw1\n",
    "#api_key_2 = 'a8319132e7bb608447cbfe08908363873f7ea22c' #jeongwookjw2\n",
    "#api_key_3 = '9cc713f8d416074f753e2c1760a1de2022af0ee6' #jeongwookjw3\n",
    "api_key_1 = '6fb4a3aa45ab0091c105349ec63bd7d5794b796c' #jeongwoo1\n",
    "api_key_2 = 'e2740a12291221169f1c35a45488d7e5d281fa96' #jeongwoo2\n",
    "api_key_3 = '91994e5ff42268ae9ee3518578f7ed26fa8e5d6e' #jeongwoo3\n",
    "#api_key_1 = 'b9b9b4cbd79ee23c779f5f5c86f749feccefbc52' #jeongwoo4\n",
    "#api_key_2 = 'cc38dc5e7e29d0f2c40aa022baa560dc7f3b2b17' #jeongwoo5\n",
    "#api_key_3 = '32b87dbe27ea2a63b1e35895114c0210815e14ca' #jeongwoo6\n",
    "#api_key_1 = '56c7a7e9ba7366b14b82f119f8d4755318160b46' #jeongwoo7\n",
    "#api_key_2 = 'fa966992cc88d17a6c1506d9a187812096ba3aa4' #jeongwoo8\n",
    "#api_key_3 = 'ae29333ab58c2ec22830f47a56763cb539df5715' #jeongwoo9\n",
    "\n",
    "date = '20200912'"
   ]
  },
  {
   "cell_type": "code",
   "execution_count": 5,
   "metadata": {},
   "outputs": [],
   "source": [
    "def get_corp_code(api_key):\n",
    "    corp_dict={}\n",
    "    response = requests.get('https://opendart.fss.or.kr/api/corpCode.xml?crtfc_key=' + api_key)\n",
    "    zf = ZipFile(BytesIO(response.content))\n",
    "    soup = BeautifulSoup(zf.open(zf.namelist()[0]).read().decode(), 'html.parser')\n",
    "    for i in soup.find_all('list'):\n",
    "        if i.find('stock_code').string in krx:\n",
    "            corp_dict[i.find('corp_code').string] = i.find('stock_code').string\n",
    "    \n",
    "    return corp_dict"
   ]
  },
  {
   "cell_type": "code",
   "execution_count": 6,
   "metadata": {},
   "outputs": [],
   "source": [
    "def get_all_rcpNo(api_key_1, api_key_2, api_key_3, corp_codes, date, n):\n",
    "    \n",
    "    business_dict={}\n",
    "    banki_dict={}\n",
    "    boonki_dict={}\n",
    "    \n",
    "    for idx, code in enumerate(corp_codes.keys()):\n",
    "        if (idx>=len(corp_codes)/3*(n-1))&(idx<len(corp_codes)/3*n):\n",
    "            print(str(idx-(len(corp_codes)/3*(n-1)))+' / '+str(len(corp_codes)/3)+'   '+str(idx%3), end='\\r')\n",
    "            i=0\n",
    "            final_list = []\n",
    "            if (idx%3)==0:\n",
    "                api_key = api_key_1\n",
    "            elif (idx%3)==1:\n",
    "                api_key = api_key_2\n",
    "            else:\n",
    "                api_key = api_key_3\n",
    "            while True:\n",
    "                response = requests.get(f'https://opendart.fss.or.kr/api/list.json?crtfc_key={api_key}'\n",
    "                                        f\"&corp_code={code}\"\n",
    "                                        f'&bgn_de=19000101'\n",
    "                                        f'&end_de={date}'\n",
    "                                        f'&page_no={i}'\n",
    "                                        f'&page_count=100')\n",
    "                page = response.json()\n",
    "\n",
    "                if page['status']=='013':\n",
    "                    break\n",
    "\n",
    "                final_list += page['list']\n",
    "                if page['page_no']==page['total_page']:\n",
    "                    break\n",
    "\n",
    "                i+=1\n",
    "                time.sleep(0.3)\n",
    "\n",
    "            if page['status']!='013':\n",
    "                temp = pd.DataFrame(final_list)\n",
    "                business_dict[code]=list(temp[temp['report_nm'].str.contains('사업보고서')]['rcept_no'])\n",
    "                banki_dict[code]=list(temp[temp['report_nm'].str.contains('반기보고서')]['rcept_no'])\n",
    "                boonki_dict[code]=list(temp[temp['report_nm'].str.contains('분기보고서')]['rcept_no'])\n",
    "                time.sleep(0.3)\n",
    "        else:\n",
    "            continue\n",
    "            \n",
    "    return business_dict, banki_dict, boonki_dict"
   ]
  },
  {
   "cell_type": "code",
   "execution_count": 7,
   "metadata": {},
   "outputs": [],
   "source": [
    "def get_params(rcpNo, title):\n",
    "    response = requests.get(f'http://dart.fss.or.kr/dsaf001/main.do?rcpNo={rcpNo}')\n",
    "    soup = BeautifulSoup(response.text, 'html.parser')\n",
    "    \n",
    "    temp = str(soup.find('head'))\\\n",
    "    .split(title)[1]\\\n",
    "    .split('cnt++')[0]\\\n",
    "    .split('viewDoc(')[1]\\\n",
    "    .split(', ')\n",
    "    \n",
    "    return [temp[i][1:-1] for i in range(len(temp))]"
   ]
  },
  {
   "cell_type": "code",
   "execution_count": 8,
   "metadata": {},
   "outputs": [],
   "source": [
    "def get_report(params):\n",
    "    response = requests.get(f'http://dart.fss.or.kr/report/viewer.do?rcpNo={params[0]}'\n",
    "    f'&dcmNo={params[1]}'\n",
    "    f'&eleId={params[2]}'\n",
    "    f'&offset={params[3]}'\n",
    "    f'&length={params[4]}'\n",
    "    f'&dtd=dart3.xsd')\n",
    "    soup = BeautifulSoup(response.text, 'html.parser')\n",
    "    \n",
    "#     for table in soup.find_all('table'):\n",
    "#         table.extract()\n",
    "        \n",
    "    return soup.get_text(strip=True)"
   ]
  },
  {
   "cell_type": "code",
   "execution_count": 9,
   "metadata": {},
   "outputs": [],
   "source": [
    "corp_codes = get_corp_code(api_key_2)"
   ]
  },
  {
   "cell_type": "code",
   "execution_count": 10,
   "metadata": {},
   "outputs": [
    {
     "data": {
      "text/plain": [
       "2370"
      ]
     },
     "execution_count": 10,
     "metadata": {},
     "output_type": "execute_result"
    }
   ],
   "source": [
    "len(corp_codes)"
   ]
  },
  {
   "cell_type": "code",
   "execution_count": 11,
   "metadata": {},
   "outputs": [
    {
     "data": {
      "text/plain": [
       "2571"
      ]
     },
     "execution_count": 11,
     "metadata": {},
     "output_type": "execute_result"
    }
   ],
   "source": [
    "len(krx)"
   ]
  },
  {
   "cell_type": "code",
   "execution_count": 12,
   "metadata": {},
   "outputs": [],
   "source": [
    "res = [ ele for ele in krx ] \n",
    "for a in krx: \n",
    "    if a in list(corp_codes.values()): \n",
    "        res.remove(a) "
   ]
  },
  {
   "cell_type": "code",
   "execution_count": 13,
   "metadata": {},
   "outputs": [],
   "source": [
    "#res"
   ]
  },
  {
   "cell_type": "code",
   "execution_count": 14,
   "metadata": {},
   "outputs": [],
   "source": [
    "#business_1, banki_1, boonki_1 = get_all_rcpNo(api_key_1, api_key_2, api_key_3, corp_codes, date, 1)"
   ]
  },
  {
   "cell_type": "code",
   "execution_count": 15,
   "metadata": {},
   "outputs": [],
   "source": [
    "#business_2, banki_2, boonki_2 = get_all_rcpNo(api_key_1, api_key_2, api_key_3, corp_codes, date, 2)"
   ]
  },
  {
   "cell_type": "code",
   "execution_count": 16,
   "metadata": {},
   "outputs": [
    {
     "name": "stdout",
     "output_type": "stream",
     "text": [
      "789.0 / 790.0   2\r"
     ]
    }
   ],
   "source": [
    "business_3, banki_3, boonki_3 = get_all_rcpNo(api_key_1, api_key_2, api_key_3, corp_codes, date, 3)"
   ]
  },
  {
   "cell_type": "code",
   "execution_count": 18,
   "metadata": {},
   "outputs": [
    {
     "data": {
      "text/plain": [
       "790"
      ]
     },
     "execution_count": 18,
     "metadata": {},
     "output_type": "execute_result"
    }
   ],
   "source": [
    "len(business_3)"
   ]
  },
  {
   "cell_type": "code",
   "execution_count": 19,
   "metadata": {},
   "outputs": [
    {
     "data": {
      "text/plain": [
       "790"
      ]
     },
     "execution_count": 19,
     "metadata": {},
     "output_type": "execute_result"
    }
   ],
   "source": [
    "len(banki_3)"
   ]
  },
  {
   "cell_type": "code",
   "execution_count": 20,
   "metadata": {},
   "outputs": [
    {
     "data": {
      "text/plain": [
       "790"
      ]
     },
     "execution_count": 20,
     "metadata": {},
     "output_type": "execute_result"
    }
   ],
   "source": [
    "len(boonki_3)"
   ]
  },
  {
   "cell_type": "code",
   "execution_count": 22,
   "metadata": {},
   "outputs": [
    {
     "data": {
      "text/plain": [
       "461146"
      ]
     },
     "execution_count": 22,
     "metadata": {},
     "output_type": "execute_result"
    }
   ],
   "source": [
    "import json\n",
    "from pathlib import Path\n",
    "\n",
    "Path('./business_3.json').write_text(json.dumps(business_3), encoding='utf-8')\n",
    "Path('./banki_3.json').write_text(json.dumps(banki_3), encoding='utf-8')\n",
    "Path('./boonki_3.json').write_text(json.dumps(boonki_3), encoding='utf-8')"
   ]
  },
  {
   "cell_type": "code",
   "execution_count": null,
   "metadata": {},
   "outputs": [],
   "source": [
    "frequency_category = {\n",
    "    'business' : business,\n",
    "    'banki' : banki,\n",
    "    'boonki' : boonki\n",
    "}"
   ]
  },
  {
   "cell_type": "code",
   "execution_count": null,
   "metadata": {},
   "outputs": [],
   "source": [
    "report_category = {\n",
    "    'analysis' : '이사의 경영진단 및 분석의견\",',\n",
    "    'protection' : '보호를 위하여 필요한 사항\",'\n",
    "}"
   ]
  },
  {
   "cell_type": "code",
   "execution_count": null,
   "metadata": {},
   "outputs": [],
   "source": [
    "for name, keyword in report_category.items():\n",
    "    for frequency, all_rcpNo in frequency_category.items():\n",
    "        for corp_code, rcpNo_list in all_rcpNo.items():\n",
    "            for rcpNo in rcpNo_list:\n",
    "                try:\n",
    "                    file = open(f'./reports/{name}/{frequency}/{corp_codes[corp_code]}/{rcpNo[:8]}.txt', 'w', encoding='utf-8')\n",
    "                except:\n",
    "                    os.makedirs(f'./reports/{name}/{frequency}/{corp_codes[corp_code]}')\n",
    "                    file = open(f'./reports/{name}/{frequency}/{corp_codes[corp_code]}/{rcpNo[:8]}.txt', 'w', encoding='utf-8')\n",
    "                file.write(get_report(get_params(corp_code,keyword)).replace('\\xa0',''))\n",
    "                file.close()"
   ]
  },
  {
   "cell_type": "code",
   "execution_count": null,
   "metadata": {},
   "outputs": [],
   "source": [
    "asdf=100\n",
    "print(str(asdf)+'23')"
   ]
  },
  {
   "cell_type": "code",
   "execution_count": null,
   "metadata": {},
   "outputs": [],
   "source": []
  },
  {
   "cell_type": "code",
   "execution_count": null,
   "metadata": {},
   "outputs": [],
   "source": []
  }
 ],
 "metadata": {
  "kernelspec": {
   "display_name": "Python 3",
   "language": "python",
   "name": "python3"
  },
  "language_info": {
   "codemirror_mode": {
    "name": "ipython",
    "version": 3
   },
   "file_extension": ".py",
   "mimetype": "text/x-python",
   "name": "python",
   "nbconvert_exporter": "python",
   "pygments_lexer": "ipython3",
   "version": "3.6.8"
  }
 },
 "nbformat": 4,
 "nbformat_minor": 4
}
